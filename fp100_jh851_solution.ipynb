{
 "cells": [
  {
   "cell_type": "code",
   "execution_count": 1,
   "metadata": {},
   "outputs": [],
   "source": [
    "import pandas as pd\n",
    "import numpy as np\n",
    "import matplotlib.pyplot as plt\n",
    "import seaborn as sns\n",
    "from sklearn.preprocessing import StandardScaler, PowerTransformer"
   ]
  },
  {
   "cell_type": "code",
   "execution_count": null,
   "metadata": {},
   "outputs": [],
   "source": [
    "# Loading dataframe\n",
    "df = pd.read_csv('London_Listings.csv')\n",
    "\n",
    "# Original shape\n",
    "print('Original Shape:', df.shape)\n",
    "\n",
    "# First five rows\n",
    "df.head()"
   ]
  },
  {
   "cell_type": "code",
   "execution_count": null,
   "metadata": {},
   "outputs": [],
   "source": [
    "# Check types before categorising\n",
    "print(df.dtypes)"
   ]
  },
  {
   "cell_type": "code",
   "execution_count": null,
   "metadata": {},
   "outputs": [],
   "source": [
    "# Categorial and numerical columns\n",
    "categorical_var = df.select_dtypes(include=['object'])\n",
    "numerical_var = df.select_dtypes(include=['int64', 'float64'])\n",
    "\n",
    "print(\"Categorical Variables:\", categorical_var)\n",
    "print(\"Numerical Variables:\", numerical_var)"
   ]
  },
  {
   "cell_type": "code",
   "execution_count": null,
   "metadata": {},
   "outputs": [],
   "source": [
    "# Price Column\n",
    "df['price'] = df['price'].str.replace('$', '', regex=False).str.replace(',', '', regex=False)\n",
    "df['price'] = pd.to_numeric(df['price'], errors='coerce')\n",
    "\n",
    "df['price'].describe()\n"
   ]
  },
  {
   "cell_type": "code",
   "execution_count": null,
   "metadata": {},
   "outputs": [],
   "source": [
    "# Categorical variables, remove empty strings or lists and replace with Nan.\n",
    "for col in categorical_var:\n",
    "    df[col] = df[col].replace(['', '[]'], np.nan)\n",
    "    \n",
    "missing_col_val = df.isnull().sum()\n",
    "print('Missing column values:\\n', missing_col_val[missing_col_val > 0])"
   ]
  },
  {
   "cell_type": "code",
   "execution_count": null,
   "metadata": {},
   "outputs": [],
   "source": [
    "# Drop unnecessary columns, can be later changed.\n",
    "drop_Columns = ['calendar_last_scraped', 'bathrooms_text', 'latitude', 'longitude']\n",
    "df.drop(columns=drop_Columns, inplace=True, errors='ignore')\n",
    "\n",
    "# Updated shape\n",
    "print(\"Shape after dropping unnecessary columns:\", df.shape)"
   ]
  },
  {
   "cell_type": "code",
   "execution_count": null,
   "metadata": {},
   "outputs": [],
   "source": [
    "# Drop duplicates\n",
    "df.drop_duplicates(inplace=True)\n",
    "\n",
    "# Drop rows with NaN values\n",
    "df.dropna(inplace=True)\n",
    "\n",
    "# Updated shape\n",
    "print('Shape after dropping duplicates and NaN rows:', df.shape)"
   ]
  },
  {
   "cell_type": "code",
   "execution_count": null,
   "metadata": {},
   "outputs": [],
   "source": [
    "# Remove outliers (ONLY RUN ONCE)\n",
    "\n",
    "def remove_outliers(df, columns):\n",
    "    for col in columns:\n",
    "        # Necessary as numberical_var contains elements which have been deleted.\n",
    "        if col not in df.columns:\n",
    "            print(f\"Column '{col}' does not exist. \")\n",
    "            continue\n",
    "        \n",
    "        # Calculate IQR and bounds\n",
    "        q1 = df[col].quantile(0.25)\n",
    "        q3 = df[col].quantile(0.75)\n",
    "        iqr = q3 - q1\n",
    "        l_bound = q1 - 1.5 * iqr\n",
    "        u_bound = q3 + 1.5 * iqr\n",
    "        \n",
    "        # Remove outliers\n",
    "        df = df[(df[col] >= l_bound) & (df[col] <= u_bound)]\n",
    "    \n",
    "    return df\n",
    "\n",
    "# Call the function\n",
    "df = remove_outliers(df, numerical_var)\n",
    "\n",
    "# Display the updated shape\n",
    "print('Shape after removing outliers:', df.shape)\n"
   ]
  },
  {
   "cell_type": "code",
   "execution_count": null,
   "metadata": {},
   "outputs": [],
   "source": [
    "# Log transformation of prices\n",
    "df['price_log'] = np.log1p(df['price'])\n",
    "\n",
    "# Update variable\n",
    "numerical_var = [\n",
    "    'accommodates', 'bathrooms', 'bedrooms', 'beds',\n",
    "    'price', 'number_of_reviews', 'review_scores_rating'\n",
    "]\n",
    "\n",
    "# Creating a copy of the dataframe so we can normalise and have a non-normalised version.\n",
    "df_original = df.copy()\n",
    "\n",
    "# Normalise numberical features\n",
    "scaler = StandardScaler()\n",
    "df[numerical_var] = scaler.fit_transform(df[numerical_var])\n",
    "\n",
    "print(df.head())\n"
   ]
  },
  {
   "cell_type": "code",
   "execution_count": null,
   "metadata": {},
   "outputs": [],
   "source": [
    "# Prices Across Neighborhoods\n",
    "\n",
    "# Size of the graph\n",
    "plt.figure(figsize=(12, 6))\n",
    "\n",
    "# Boxplot prices across neighbourhood\n",
    "sns.boxplot(data=df_original, x='neighbourhood', y='price_log')\n",
    "\n",
    "# Read it horizontally\n",
    "plt.xticks(rotation=90)\n",
    "\n",
    "# Add labels and title\n",
    "plt.title('Price Distribution Across Neighborhoods', fontsize=16)\n",
    "plt.xlabel('Neighborhood', fontsize=12)\n",
    "plt.ylabel('Log Price', fontsize=12)\n",
    "\n",
    "# Show the plot\n",
    "plt.tight_layout()\n",
    "plt.show()"
   ]
  },
  {
   "cell_type": "code",
   "execution_count": null,
   "metadata": {},
   "outputs": [],
   "source": [
    "# Prices Across Number of Possible Tenants\n",
    "\n",
    "# Set the figure size\n",
    "plt.figure(figsize=(12, 6))\n",
    "\n",
    "# Create a boxplot of prices across the number of tenants\n",
    "sns.boxplot(data=df_original, x='accommodates', y='price_log')\n",
    "\n",
    "# Add titles and labels\n",
    "plt.title('Price Distribution by Number of Tenants', fontsize=16)\n",
    "plt.xlabel('Number of Tenants (Accommodates)', fontsize=12)\n",
    "plt.ylabel('Log Price', fontsize=12)\n",
    "\n",
    "# Show the plot\n",
    "plt.tight_layout()\n",
    "plt.show()"
   ]
  }
 ],
 "metadata": {
  "kernelspec": {
   "display_name": "Python 3",
   "language": "python",
   "name": "python3"
  },
  "language_info": {
   "codemirror_mode": {
    "name": "ipython",
    "version": 3
   },
   "file_extension": ".py",
   "mimetype": "text/x-python",
   "name": "python",
   "nbconvert_exporter": "python",
   "pygments_lexer": "ipython3",
   "version": "3.10.0"
  }
 },
 "nbformat": 4,
 "nbformat_minor": 2
}
