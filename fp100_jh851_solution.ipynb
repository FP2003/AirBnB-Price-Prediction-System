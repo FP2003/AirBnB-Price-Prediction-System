{
 "cells": [
  {
   "cell_type": "code",
   "execution_count": null,
   "metadata": {},
   "outputs": [],
   "source": [
    "import pandas as pd\n",
    "import numpy as np\n",
    "import matplotlib.pyplot as plt\n",
    "import seaborn as sns\n",
    "from sklearn.preprocessing import StandardScaler, PowerTransformer"
   ]
  },
  {
   "cell_type": "code",
   "execution_count": null,
   "metadata": {},
   "outputs": [],
   "source": [
    "# Loading dataframe\n",
    "df = pd.read_csv('London_Listings.csv')\n",
    "\n",
    "# Original shape\n",
    "print('Original Shape:', df.shape)\n",
    "\n",
    "# First five rows\n",
    "df.head()"
   ]
  },
  {
   "cell_type": "code",
   "execution_count": null,
   "metadata": {},
   "outputs": [],
   "source": [
    "# Check types before categorising\n",
    "\n",
    "print(df.dtypes)"
   ]
  },
  {
   "cell_type": "code",
   "execution_count": null,
   "metadata": {},
   "outputs": [],
   "source": [
    "# Categorial and numerical columns\n",
    "\n",
    "categorical_var = df.select_dtypes(include=['object'])\n",
    "numerical_var = df.select_dtypes(include=['int64', 'float64'])\n",
    "\n",
    "print(\"Categorical Variables:\", categorical_var)\n",
    "print(\"Numerical Variables:\", numerical_var)"
   ]
  },
  {
   "cell_type": "code",
   "execution_count": 5,
   "metadata": {},
   "outputs": [
    {
     "data": {
      "text/plain": [
       "count    61418.000000\n",
       "mean       209.987202\n",
       "std        961.450873\n",
       "min          0.000000\n",
       "25%         78.000000\n",
       "50%        138.000000\n",
       "75%        227.000000\n",
       "max      80000.000000\n",
       "Name: price, dtype: float64"
      ]
     },
     "execution_count": 5,
     "metadata": {},
     "output_type": "execute_result"
    }
   ],
   "source": [
    "# Price Column\n",
    "\n",
    "df['price'] = df['price'].str.replace('$', '', regex=False).str.replace(',', '', regex=False)\n",
    "df['price'] = pd.to_numeric(df['price'], errors='coerce')\n",
    "\n",
    "df['price'].describe()\n"
   ]
  },
  {
   "cell_type": "code",
   "execution_count": 11,
   "metadata": {},
   "outputs": [
    {
     "name": "stdout",
     "output_type": "stream",
     "text": [
      "Missing column values:\n",
      " description                   1956\n",
      "host_name                        1\n",
      "host_since                       1\n",
      "host_response_rate           10175\n",
      "host_acceptance_rate          7146\n",
      "host_is_superhost              380\n",
      "host_listings_count              1\n",
      "host_total_listings_count        1\n",
      "bathrooms                     5329\n",
      "bathrooms_text                 100\n",
      "bedrooms                       101\n",
      "beds                          5400\n",
      "amenities                      136\n",
      "price                         5261\n",
      "first_review                 14736\n",
      "last_review                  14736\n",
      "review_scores_rating         14736\n",
      "dtype: int64\n"
     ]
    }
   ],
   "source": [
    "# Categorical variables, remove empty strings or lists and replace with Nan.\n",
    "\n",
    "for col in categorical_var:\n",
    "    df[col] = df[col].replace(['', '[]'], np.nan)\n",
    "    \n",
    "missing_col_val = df.isnull().sum()\n",
    "print('Missing column values:\\n', missing_col_val[missing_col_val > 0])"
   ]
  }
 ],
 "metadata": {
  "kernelspec": {
   "display_name": "Python 3",
   "language": "python",
   "name": "python3"
  },
  "language_info": {
   "codemirror_mode": {
    "name": "ipython",
    "version": 3
   },
   "file_extension": ".py",
   "mimetype": "text/x-python",
   "name": "python",
   "nbconvert_exporter": "python",
   "pygments_lexer": "ipython3",
   "version": "3.12.2"
  }
 },
 "nbformat": 4,
 "nbformat_minor": 2
}
