{
 "cells": [
  {
   "cell_type": "code",
   "execution_count": 77,
   "metadata": {},
   "outputs": [],
   "source": [
    "import pandas as pd\n",
    "import numpy as np\n",
    "import matplotlib.pyplot as plt\n",
    "import seaborn as sns\n",
    "from sklearn.preprocessing import StandardScaler"
   ]
  },
  {
   "cell_type": "code",
   "execution_count": 78,
   "metadata": {},
   "outputs": [
    {
     "name": "stdout",
     "output_type": "stream",
     "text": [
      "Original Shape: (66679, 31)\n"
     ]
    },
    {
     "data": {
      "text/html": [
       "<div>\n",
       "<style scoped>\n",
       "    .dataframe tbody tr th:only-of-type {\n",
       "        vertical-align: middle;\n",
       "    }\n",
       "\n",
       "    .dataframe tbody tr th {\n",
       "        vertical-align: top;\n",
       "    }\n",
       "\n",
       "    .dataframe thead th {\n",
       "        text-align: right;\n",
       "    }\n",
       "</style>\n",
       "<table border=\"1\" class=\"dataframe\">\n",
       "  <thead>\n",
       "    <tr style=\"text-align: right;\">\n",
       "      <th></th>\n",
       "      <th>id</th>\n",
       "      <th>name</th>\n",
       "      <th>description</th>\n",
       "      <th>host_id</th>\n",
       "      <th>host_name</th>\n",
       "      <th>host_since</th>\n",
       "      <th>host_response_rate</th>\n",
       "      <th>host_acceptance_rate</th>\n",
       "      <th>host_is_superhost</th>\n",
       "      <th>host_listings_count</th>\n",
       "      <th>...</th>\n",
       "      <th>amenities</th>\n",
       "      <th>price</th>\n",
       "      <th>minimum_nights</th>\n",
       "      <th>maximum_nights</th>\n",
       "      <th>calendar_last_scraped</th>\n",
       "      <th>number_of_reviews</th>\n",
       "      <th>first_review</th>\n",
       "      <th>last_review</th>\n",
       "      <th>review_scores_rating</th>\n",
       "      <th>calculated_host_listings_count</th>\n",
       "    </tr>\n",
       "  </thead>\n",
       "  <tbody>\n",
       "    <tr>\n",
       "      <th>0</th>\n",
       "      <td>2.763150e+07</td>\n",
       "      <td>1</td>\n",
       "      <td>NaN</td>\n",
       "      <td>35877912</td>\n",
       "      <td>Alex</td>\n",
       "      <td>15/06/2015</td>\n",
       "      <td>NaN</td>\n",
       "      <td>NaN</td>\n",
       "      <td>f</td>\n",
       "      <td>1.0</td>\n",
       "      <td>...</td>\n",
       "      <td>[\"Kitchen\", \"Refrigerator\", \"Microwave\", \"Free...</td>\n",
       "      <td>$200.00</td>\n",
       "      <td>1</td>\n",
       "      <td>1125</td>\n",
       "      <td>14/06/2024</td>\n",
       "      <td>0</td>\n",
       "      <td>NaN</td>\n",
       "      <td>NaN</td>\n",
       "      <td>NaN</td>\n",
       "      <td>1</td>\n",
       "    </tr>\n",
       "    <tr>\n",
       "      <th>1</th>\n",
       "      <td>1.100000e+18</td>\n",
       "      <td>1</td>\n",
       "      <td>Get comfortable and enjoy plenty of extra room...</td>\n",
       "      <td>564055882</td>\n",
       "      <td>Lili-Ann</td>\n",
       "      <td>26/02/2024</td>\n",
       "      <td>NaN</td>\n",
       "      <td>NaN</td>\n",
       "      <td>f</td>\n",
       "      <td>1.0</td>\n",
       "      <td>...</td>\n",
       "      <td>[]</td>\n",
       "      <td>$675.00</td>\n",
       "      <td>1</td>\n",
       "      <td>365</td>\n",
       "      <td>15/06/2024</td>\n",
       "      <td>0</td>\n",
       "      <td>NaN</td>\n",
       "      <td>NaN</td>\n",
       "      <td>NaN</td>\n",
       "      <td>1</td>\n",
       "    </tr>\n",
       "    <tr>\n",
       "      <th>2</th>\n",
       "      <td>1.170000e+18</td>\n",
       "      <td>117</td>\n",
       "      <td>Keep it simple at this peaceful and centrally-...</td>\n",
       "      <td>528033284</td>\n",
       "      <td>Shujauddin</td>\n",
       "      <td>26/07/2023</td>\n",
       "      <td>86%</td>\n",
       "      <td>50%</td>\n",
       "      <td>f</td>\n",
       "      <td>2.0</td>\n",
       "      <td>...</td>\n",
       "      <td>[\"Washer\", \"Wifi\", \"Kitchen\"]</td>\n",
       "      <td>$95.00</td>\n",
       "      <td>1</td>\n",
       "      <td>365</td>\n",
       "      <td>16/06/2024</td>\n",
       "      <td>0</td>\n",
       "      <td>NaN</td>\n",
       "      <td>NaN</td>\n",
       "      <td>NaN</td>\n",
       "      <td>2</td>\n",
       "    </tr>\n",
       "    <tr>\n",
       "      <th>3</th>\n",
       "      <td>8.730000e+17</td>\n",
       "      <td>- Bright Central London Apartment -</td>\n",
       "      <td>My apartment has everything you possibly need ...</td>\n",
       "      <td>99268099</td>\n",
       "      <td>Alex</td>\n",
       "      <td>11/10/2016</td>\n",
       "      <td>98%</td>\n",
       "      <td>93%</td>\n",
       "      <td>t</td>\n",
       "      <td>5.0</td>\n",
       "      <td>...</td>\n",
       "      <td>[\"Microwave\", \"Hot water kettle\", \"Body soap\",...</td>\n",
       "      <td>$166.00</td>\n",
       "      <td>7</td>\n",
       "      <td>365</td>\n",
       "      <td>16/06/2024</td>\n",
       "      <td>24</td>\n",
       "      <td>24/04/2023</td>\n",
       "      <td>02/05/2024</td>\n",
       "      <td>4.83</td>\n",
       "      <td>1</td>\n",
       "    </tr>\n",
       "    <tr>\n",
       "      <th>4</th>\n",
       "      <td>4.672403e+07</td>\n",
       "      <td>\" Bright &amp; Cosy  Loft apartment \"</td>\n",
       "      <td>Lovely and cosy arctic space with a separate d...</td>\n",
       "      <td>359199241</td>\n",
       "      <td>Karol</td>\n",
       "      <td>29/07/2020</td>\n",
       "      <td>100%</td>\n",
       "      <td>95%</td>\n",
       "      <td>t</td>\n",
       "      <td>1.0</td>\n",
       "      <td>...</td>\n",
       "      <td>[\"Cleaning products\", \"Cooking basics\", \"First...</td>\n",
       "      <td>$105.00</td>\n",
       "      <td>2</td>\n",
       "      <td>60</td>\n",
       "      <td>14/06/2024</td>\n",
       "      <td>46</td>\n",
       "      <td>20/08/2021</td>\n",
       "      <td>02/06/2024</td>\n",
       "      <td>4.89</td>\n",
       "      <td>1</td>\n",
       "    </tr>\n",
       "  </tbody>\n",
       "</table>\n",
       "<p>5 rows × 31 columns</p>\n",
       "</div>"
      ],
      "text/plain": [
       "             id                                 name  \\\n",
       "0  2.763150e+07                                    1   \n",
       "1  1.100000e+18                                    1   \n",
       "2  1.170000e+18                                  117   \n",
       "3  8.730000e+17  - Bright Central London Apartment -   \n",
       "4  4.672403e+07    \" Bright & Cosy  Loft apartment \"   \n",
       "\n",
       "                                         description    host_id   host_name  \\\n",
       "0                                                NaN   35877912        Alex   \n",
       "1  Get comfortable and enjoy plenty of extra room...  564055882    Lili-Ann   \n",
       "2  Keep it simple at this peaceful and centrally-...  528033284  Shujauddin   \n",
       "3  My apartment has everything you possibly need ...   99268099        Alex   \n",
       "4  Lovely and cosy arctic space with a separate d...  359199241       Karol   \n",
       "\n",
       "   host_since host_response_rate host_acceptance_rate host_is_superhost  \\\n",
       "0  15/06/2015                NaN                  NaN                 f   \n",
       "1  26/02/2024                NaN                  NaN                 f   \n",
       "2  26/07/2023                86%                  50%                 f   \n",
       "3  11/10/2016                98%                  93%                 t   \n",
       "4  29/07/2020               100%                  95%                 t   \n",
       "\n",
       "   host_listings_count  ...  \\\n",
       "0                  1.0  ...   \n",
       "1                  1.0  ...   \n",
       "2                  2.0  ...   \n",
       "3                  5.0  ...   \n",
       "4                  1.0  ...   \n",
       "\n",
       "                                           amenities    price  minimum_nights  \\\n",
       "0  [\"Kitchen\", \"Refrigerator\", \"Microwave\", \"Free...  $200.00               1   \n",
       "1                                                 []  $675.00               1   \n",
       "2                      [\"Washer\", \"Wifi\", \"Kitchen\"]   $95.00               1   \n",
       "3  [\"Microwave\", \"Hot water kettle\", \"Body soap\",...  $166.00               7   \n",
       "4  [\"Cleaning products\", \"Cooking basics\", \"First...  $105.00               2   \n",
       "\n",
       "   maximum_nights calendar_last_scraped number_of_reviews  first_review  \\\n",
       "0            1125            14/06/2024                 0           NaN   \n",
       "1             365            15/06/2024                 0           NaN   \n",
       "2             365            16/06/2024                 0           NaN   \n",
       "3             365            16/06/2024                24    24/04/2023   \n",
       "4              60            14/06/2024                46    20/08/2021   \n",
       "\n",
       "   last_review review_scores_rating  calculated_host_listings_count  \n",
       "0          NaN                  NaN                               1  \n",
       "1          NaN                  NaN                               1  \n",
       "2          NaN                  NaN                               2  \n",
       "3   02/05/2024                 4.83                               1  \n",
       "4   02/06/2024                 4.89                               1  \n",
       "\n",
       "[5 rows x 31 columns]"
      ]
     },
     "execution_count": 78,
     "metadata": {},
     "output_type": "execute_result"
    }
   ],
   "source": [
    "# Load the dataset\n",
    "df = pd.read_csv('London_Listings.csv')\n",
    "\n",
    "# Original shape\n",
    "print('Original Shape:', df.shape)\n",
    "\n",
    "# First 5 rows\n",
    "df.head()"
   ]
  },
  {
   "cell_type": "code",
   "execution_count": 79,
   "metadata": {},
   "outputs": [
    {
     "name": "stdout",
     "output_type": "stream",
     "text": [
      "id                                float64\n",
      "name                               object\n",
      "description                        object\n",
      "host_id                             int64\n",
      "host_name                          object\n",
      "host_since                         object\n",
      "host_response_rate                 object\n",
      "host_acceptance_rate               object\n",
      "host_is_superhost                  object\n",
      "host_listings_count               float64\n",
      "host_total_listings_count         float64\n",
      "neighbourhood                      object\n",
      "latitude                          float64\n",
      "longitude                         float64\n",
      "property_type                      object\n",
      "room_type                          object\n",
      "accommodates                        int64\n",
      "bathrooms                         float64\n",
      "bathrooms_text                     object\n",
      "bedrooms                          float64\n",
      "beds                              float64\n",
      "amenities                          object\n",
      "price                              object\n",
      "minimum_nights                      int64\n",
      "maximum_nights                      int64\n",
      "calendar_last_scraped              object\n",
      "number_of_reviews                   int64\n",
      "first_review                       object\n",
      "last_review                        object\n",
      "review_scores_rating              float64\n",
      "calculated_host_listings_count      int64\n",
      "dtype: object\n"
     ]
    }
   ],
   "source": [
    "# Check types before categorising\n",
    "print(df.dtypes)"
   ]
  },
  {
   "cell_type": "code",
   "execution_count": 80,
   "metadata": {},
   "outputs": [
    {
     "name": "stdout",
     "output_type": "stream",
     "text": [
      "Categorical Variables: ['name', 'description', 'host_name', 'host_since', 'host_response_rate', 'host_acceptance_rate', 'host_is_superhost', 'neighbourhood', 'property_type', 'room_type', 'bathrooms_text', 'amenities', 'price', 'calendar_last_scraped', 'first_review', 'last_review']\n",
      "Numerical Variables: ['id', 'host_id', 'host_listings_count', 'host_total_listings_count', 'latitude', 'longitude', 'accommodates', 'bathrooms', 'bedrooms', 'beds', 'minimum_nights', 'maximum_nights', 'number_of_reviews', 'review_scores_rating', 'calculated_host_listings_count']\n"
     ]
    }
   ],
   "source": [
    "# Organise the coluns in categorical and numerical types\n",
    "categorical_var = df.select_dtypes(include=['object']).columns.tolist()\n",
    "numerical_var = df.select_dtypes(include=['int64', 'float64']).columns.tolist()\n",
    "\n",
    "print(\"Categorical Variables:\", categorical_var)\n",
    "print(\"Numerical Variables:\", numerical_var)"
   ]
  },
  {
   "cell_type": "code",
   "execution_count": 81,
   "metadata": {},
   "outputs": [
    {
     "name": "stdout",
     "output_type": "stream",
     "text": [
      "count    61417.000000\n",
      "mean       209.990621\n",
      "std        961.458327\n",
      "min          1.000000\n",
      "25%         78.000000\n",
      "50%        138.000000\n",
      "75%        227.000000\n",
      "max      80000.000000\n",
      "Name: price, dtype: float64\n",
      "Shape after removing empty `price` rows: (61417, 31)\n"
     ]
    }
   ],
   "source": [
    "# Fix the price column by removing $ sign and commas.\n",
    "df['price'] = df['price'].str.replace('$', '', regex=False).str.replace(',', '', regex=False)\n",
    "df['price'] = pd.to_numeric(df['price'], errors='coerce')\n",
    "\n",
    "# Remove listings with zero or negative prices\n",
    "df = df[df['price'] > 0]\n",
    "print(df['price'].describe())\n",
    "\n",
    "# Drop rows where 'price' is NaN since it is a target variable. (Important one)\n",
    "df.dropna(subset=['price'], inplace=True) # 61418\n",
    "print(f\"Shape after removing empty `price` rows: {df.shape}\")\n",
    "\n",
    "# 3 properties of 80000.00, 1 propert of 1.00"
   ]
  },
  {
   "cell_type": "code",
   "execution_count": 82,
   "metadata": {},
   "outputs": [
    {
     "name": "stdout",
     "output_type": "stream",
     "text": [
      "Missing column values:\n",
      " description                   1870\n",
      "host_name                        1\n",
      "host_since                       1\n",
      "host_response_rate            6615\n",
      "host_acceptance_rate          4365\n",
      "host_is_superhost              370\n",
      "host_listings_count              1\n",
      "host_total_listings_count        1\n",
      "bathrooms                       69\n",
      "bathrooms_text                 100\n",
      "bedrooms                       101\n",
      "beds                           140\n",
      "amenities                      132\n",
      "first_review                 14736\n",
      "last_review                  14736\n",
      "review_scores_rating         14736\n",
      "dtype: int64\n"
     ]
    }
   ],
   "source": [
    "# Categorical variables, remove empty strings or lists and replace with Nan.\n",
    "for col in categorical_var:\n",
    "    df[col] = df[col].replace(['', '[]'], np.nan)\n",
    "    \n",
    "missing_col_val = df.isnull().sum()\n",
    "print('Missing column values:\\n', missing_col_val[missing_col_val > 0])"
   ]
  },
  {
   "cell_type": "code",
   "execution_count": 83,
   "metadata": {},
   "outputs": [
    {
     "name": "stdout",
     "output_type": "stream",
     "text": [
      "Shape after dropping unnecessary columns: (61417, 24)\n"
     ]
    }
   ],
   "source": [
    "# Drop unnecessary columns, as they are either replaced or are useless in the model building.\n",
    "drop_columns = ['host_name', 'calendar_last_scraped', 'bathrooms_text', 'latitude', 'longitude', 'first_review', 'last_review']\n",
    "df.drop(columns=drop_columns, inplace=True, errors='ignore')\n",
    "\n",
    "# Updated shape\n",
    "print(\"Shape after dropping unnecessary columns:\", df.shape)"
   ]
  },
  {
   "cell_type": "code",
   "execution_count": 84,
   "metadata": {},
   "outputs": [
    {
     "name": "stdout",
     "output_type": "stream",
     "text": [
      "Shape after dropping duplicates and NaN rows: (61417, 24)\n"
     ]
    }
   ],
   "source": [
    "# Fill missing values with median as it's the safest and least aggresive approach of thinning our dataset size\n",
    "df['bathrooms'].fillna(df['bathrooms'].median(), inplace=True)\n",
    "df['bedrooms'].fillna(df['bedrooms'].median(), inplace=True)\n",
    "df['beds'].fillna(df['beds'].median(), inplace=True)\n",
    "\n",
    "# Updated shape\n",
    "print('Shape after dropping duplicates and NaN rows:', df.shape)"
   ]
  },
  {
   "cell_type": "code",
   "execution_count": 85,
   "metadata": {},
   "outputs": [
    {
     "name": "stdout",
     "output_type": "stream",
     "text": [
      "Number of duplicate rows: 51\n"
     ]
    }
   ],
   "source": [
    "# Count duplicate rows\n",
    "duplicate_count = df.duplicated().sum()\n",
    "print(f\"Number of duplicate rows: {duplicate_count}\")"
   ]
  },
  {
   "cell_type": "code",
   "execution_count": 86,
   "metadata": {},
   "outputs": [
    {
     "name": "stdout",
     "output_type": "stream",
     "text": [
      "Shape after dropping duplicates: (61366, 24)\n"
     ]
    }
   ],
   "source": [
    "# Drop duplicate rows since the number of duplicates is low compared to our dataset size\n",
    "df.drop_duplicates(inplace=True)\n",
    "# Check the new shape\n",
    "print(\"Shape after dropping duplicates:\", df.shape)"
   ]
  },
  {
   "cell_type": "code",
   "execution_count": 87,
   "metadata": {},
   "outputs": [
    {
     "name": "stdout",
     "output_type": "stream",
     "text": [
      "Listings with 0 reviews and missing rating: 14686\n",
      "Total missing review_scores_rating: 14686\n"
     ]
    }
   ],
   "source": [
    "# Count rows where number_of_reviews is 0 and review_scores_rating is NaN\n",
    "zero_reviews_missing_rating = df[(df['number_of_reviews'] == 0) & (df['review_scores_rating'].isnull())]\n",
    "\n",
    "print(f\"Listings with 0 reviews and missing rating: {zero_reviews_missing_rating.shape[0]}\")\n",
    "print(f\"Total missing review_scores_rating: {df['review_scores_rating'].isnull().sum()}\")\n"
   ]
  },
  {
   "cell_type": "code",
   "execution_count": 89,
   "metadata": {},
   "outputs": [
    {
     "name": "stdout",
     "output_type": "stream",
     "text": [
      "Missing values after fixing review_scores_rating: 0\n"
     ]
    }
   ],
   "source": [
    "# Fill missing review scores with 0 (indicating that there have no reviews)\n",
    "df.loc[df['number_of_reviews'] == 0, 'review_scores_rating'] = 0\n",
    "\n",
    "# Check if missing values remain\n",
    "print(\"Missing values after fixing review_scores_rating:\", df['review_scores_rating'].isnull().sum())"
   ]
  },
  {
   "cell_type": "code",
   "execution_count": null,
   "metadata": {},
   "outputs": [],
   "source": [
    "# Remove outliers (ONLY RUN ONCE)\n",
    "\n",
    "def remove_outliers(df, columns):\n",
    "    for col in columns:\n",
    "        if col not in df.columns:\n",
    "            print(f\"Column '{col}' does not exist. Skipping.\")\n",
    "            continue\n",
    "        \n",
    "        q1 = df[col].quantile(0.25)\n",
    "        q3 = df[col].quantile(0.75)\n",
    "        iqr = q3 - q1\n",
    "        lower_bound = q1 - 1.5 * iqr\n",
    "        upper_bound = q3 + 1.5 * iqr\n",
    "        \n",
    "        df = df[(df[col] >= lower_bound) & (df[col] <= upper_bound)]\n",
    "    \n",
    "    return df\n",
    "\n",
    "# Apply outlier removal\n",
    "df = remove_outliers(df, numerical_var)\n",
    "\n",
    "# Updated shape\n",
    "print('Shape after removing outliers:', df.shape)"
   ]
  },
  {
   "cell_type": "code",
   "execution_count": null,
   "metadata": {},
   "outputs": [],
   "source": [
    "# Log transformation of prices\n",
    "\n",
    "df = df[df['price'] > 0]  # Ensure no zero or negative prices\n",
    "df['price_log'] = np.log1p(df['price'])"
   ]
  },
  {
   "cell_type": "code",
   "execution_count": null,
   "metadata": {},
   "outputs": [],
   "source": [
    "# Update variable\n",
    "numerical_var = [\n",
    "    'accommodates', 'bedrooms', 'beds', 'price_log', 'number_of_reviews', 'review_scores_rating', 'calculated_host_listings_count'\n",
    "]\n",
    "\n",
    "# Create a copy before normalization\n",
    "df_original = df.copy()\n",
    "\n",
    "# Normalize numerical features\n",
    "scaler = StandardScaler()\n",
    "df[numerical_var] = scaler.fit_transform(df[numerical_var])\n",
    "\n",
    "# Display updated dataframe\n",
    "print(df.head())"
   ]
  },
  {
   "cell_type": "code",
   "execution_count": null,
   "metadata": {},
   "outputs": [],
   "source": [
    "# df.to_csv('cleaned_dataset.csv', index=False)"
   ]
  },
  {
   "cell_type": "code",
   "execution_count": null,
   "metadata": {},
   "outputs": [],
   "source": [
    "# Visualization: Log Price Distribution\n",
    "plt.figure(figsize=(8, 5))\n",
    "sns.histplot(df_original['price'], bins=50, kde=True, color='blue', label='Original Price')\n",
    "sns.histplot(df_original['price_log'], bins=50, kde=True, color='red', label='Log Price')\n",
    "plt.legend()\n",
    "plt.title('Distribution of Original vs Log-Transformed Prices')\n",
    "plt.xlabel('Price')\n",
    "plt.ylabel('Frequency')\n",
    "plt.show()"
   ]
  },
  {
   "cell_type": "code",
   "execution_count": null,
   "metadata": {},
   "outputs": [],
   "source": [
    "# Visualization: Price Across Neighborhoods\n",
    "neighbourhood_counts = df_original['neighbourhood'].value_counts()\n",
    "valid_neighbourhoods = neighbourhood_counts[neighbourhood_counts >= 10].index\n",
    "df_filtered = df_original[df_original['neighbourhood'].isin(valid_neighbourhoods)]\n",
    "\n",
    "plt.figure(figsize=(12, 6))\n",
    "sns.boxplot(data=df_filtered, x='neighbourhood', y='price_log')\n",
    "plt.xticks(rotation=90)\n",
    "plt.title('Price Distribution Across Neighborhoods (Filtered)')\n",
    "plt.xlabel('Neighborhood')\n",
    "plt.ylabel('Log Price')\n",
    "plt.tight_layout()\n",
    "plt.show()"
   ]
  },
  {
   "cell_type": "code",
   "execution_count": null,
   "metadata": {},
   "outputs": [],
   "source": [
    "# Visualization: Price by Number of Tenants (Accommodates)\n",
    "\n",
    "plt.figure(figsize=(12, 6))\n",
    "sns.boxplot(data=df_original, x='accommodates', y='price_log')\n",
    "plt.title('Price Distribution by Number of Tenants')\n",
    "plt.xlabel('Number of Tenants (Accommodates)')\n",
    "plt.ylabel('Log Price')\n",
    "plt.tight_layout()\n",
    "plt.show()\n"
   ]
  },
  {
   "cell_type": "code",
   "execution_count": null,
   "metadata": {},
   "outputs": [],
   "source": [
    "# Visualization: Relationship Between Review Scores and Prices\n",
    "plt.figure(figsize=(12, 6))\n",
    "sns.regplot(\n",
    "    data=df_original,\n",
    "    x='review_scores_rating',\n",
    "    y='price_log',\n",
    "    scatter_kws={'alpha': 0.3},\n",
    "    line_kws={'color': 'red'}\n",
    ")\n",
    "plt.title('Relationship Between Review Scores and Prices')\n",
    "plt.xlabel('Review Scores (Rating)')\n",
    "plt.ylabel('Log Price')\n",
    "plt.tight_layout()\n",
    "plt.show()"
   ]
  },
  {
   "cell_type": "markdown",
   "metadata": {},
   "source": [
    "## Most important cells\n",
    "\n",
    "- `Neigbhourhood, Property Type, Room Type, Accomodates, Bedrooms, Beds, Minimum Nights, Number of Reviews, Review Rating, Host is Superhost, Host listing amounts, Calculated Host Listings Count`\n",
    "\n",
    "## Useless (Potentially)\n",
    "\n",
    "- `Id, Name, Host id, Host name, Host since` - No influence at all.\n",
    "- `Amenities` - contains lists of items in the airbnb, won't affect price.\n",
    "- `First Review, Last Review` - won't affect price"
   ]
  },
  {
   "cell_type": "markdown",
   "metadata": {},
   "source": [
    "#"
   ]
  },
  {
   "cell_type": "markdown",
   "metadata": {},
   "source": [
    "## Categorical Variables\n",
    "\n",
    "Possible Approach\n",
    "1) One Hot Encode\n",
    "\n",
    "Converts categorical variables into a binary format.\n",
    "\n",
    "## Numerical Variables\n",
    "    'accommodates', 'bedrooms', 'beds', 'price_log', 'number_of_reviews', 'review_scores_rating', 'calculated_host_listings_count'\n",
    "\n",
    "\n"
   ]
  },
  {
   "cell_type": "code",
   "execution_count": null,
   "metadata": {},
   "outputs": [],
   "source": [
    "correlation_features = [\n",
    "    'accommodates', 'bedrooms', 'beds', 'number_of_reviews', \n",
    "    'review_scores_rating', 'calculated_host_listings_count', 'price_log'\n",
    "]\n",
    "\n",
    "# Compute correlation matrix\n",
    "correlation_matrix = df[correlation_features].corr()\n",
    "\n",
    "# Plot heatmap\n",
    "plt.figure(figsize=(10, 6))\n",
    "sns.heatmap(correlation_matrix, annot=True, cmap='coolwarm', fmt='.2f')\n",
    "plt.title('Correlation Matrix of Selected Features')\n",
    "plt.show()"
   ]
  },
  {
   "cell_type": "markdown",
   "metadata": {},
   "source": [
    "### Strong Correlations\n",
    "\n",
    "- `accommodates` (0.65 correlation with price_log) → More guests increase price significantly.\n",
    "- `bedrooms` (0.48 correlation with price_log) → More bedrooms increase price.\n",
    "- `beds` (0.35 correlation with price_log) → More beds slightly increase price.\n",
    "\n",
    "### Weak Correlations\n",
    "\n",
    "- `number_of_reviews` (-0.08 correlation with price_log) → Almost no effect on price.\n",
    "- `review_scores_rating` (0.04 correlation with price_log) → Minimal effect on price.\n",
    "- `calculated_host_listings_count` (0.06 correlation with price_log) → Negligible effect."
   ]
  },
  {
   "cell_type": "markdown",
   "metadata": {},
   "source": []
  }
 ],
 "metadata": {
  "kernelspec": {
   "display_name": "Python 3",
   "language": "python",
   "name": "python3"
  },
  "language_info": {
   "codemirror_mode": {
    "name": "ipython",
    "version": 3
   },
   "file_extension": ".py",
   "mimetype": "text/x-python",
   "name": "python",
   "nbconvert_exporter": "python",
   "pygments_lexer": "ipython3",
   "version": "3.10.0"
  }
 },
 "nbformat": 4,
 "nbformat_minor": 2
}
